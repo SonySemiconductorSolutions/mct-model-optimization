{
 "cells": [
  {
   "cell_type": "markdown",
   "id": "fab9d9939dc74da4",
   "metadata": {
    "collapsed": false
   },
   "source": [
    "# Fast-Depth Estimation - Quantization for IMX500\n",
    "\n",
    "[Run this tutorial in Google Colab](https://colab.research.google.com/github/sony/model_optimization/blob/main/tutorials/notebooks/imx500_notebooks/pytorch/pytorch_fastdepth_for_imx500.ipynb)\n",
    "\n",
    "## Overview\n",
    "\n",
    "In this tutorial, we will illustrate a basic and quick process of preparing a pre-trained model for deployment using MCT. Specifically, we will demonstrate how to download a pre-trained pytorch fast-depth model, compress it, and make it deployment-ready using MCT's post-training quantization techniques.\n",
    "\n",
    "We will use an existing pre-trained Fast-Depth model based on [Fast-Depth](https://github.com/dwofk/fast-depth). We will quantize the model using MCT post training quantization technique and visualize some samples of the floating point model and the quantized model.\n"
   ]
  },
  {
   "cell_type": "markdown",
   "id": "d74f9c855ec54081",
   "metadata": {
    "collapsed": false
   },
   "source": [
    "## Setup\n",
    "### Install the relevant packages"
   ]
  },
  {
   "cell_type": "code",
   "id": "7c7fa04c9903736f",
   "metadata": {
    "collapsed": false,
    "ExecuteTime": {
     "end_time": "2024-10-10T14:08:38.389433Z",
     "start_time": "2024-10-10T14:08:22.709164Z"
    }
   },
   "source": [
    "import torch\n",
    "!pip install -q torch\n",
    "!pip install onnx\n",
    "!pip install datasets\n",
    "!pip install matplotlib\n",
    "!pip install 'huggingface-hub>=0.21.0'"
   ],
   "outputs": [],
   "execution_count": 1
  },
  {
   "cell_type": "markdown",
   "id": "57717bc8f59a0d85",
   "metadata": {
    "collapsed": false
   },
   "source": "Install MCT (if it’s not already installed). Additionally, in order to use all the necessary utility functions for this tutorial, we also copy [MCT tutorials folder](https://github.com/sony/model_optimization/tree/main/tutorials) and add it to the system path."
  },
  {
   "cell_type": "code",
   "id": "9728247bc20d0600",
   "metadata": {
    "collapsed": false,
    "ExecuteTime": {
     "end_time": "2024-10-10T14:08:44.433155Z",
     "start_time": "2024-10-10T14:08:38.390775Z"
    }
   },
   "source": [
    "import importlib\n",
    "import sys\n",
    "\n",
    "if not importlib.util.find_spec('model_compression_toolkit'):\n",
    "    !pip install model_compression_toolkit\n",
    "!git clone https://github.com/sony/model_optimization.git temp_mct && mv temp_mct/tutorials . && \\rm -rf temp_mct\n",
    "sys.path.insert(0,\"tutorials\")"
   ],
   "outputs": [],
   "execution_count": 2
  },
  {
   "cell_type": "markdown",
   "id": "7a1038b9fd98bba2",
   "metadata": {
    "collapsed": false
   },
   "source": ""
  },
  {
   "cell_type": "markdown",
   "id": "084c2b8b-3175-4d46-a18a-7c4d8b6fcb38",
   "metadata": {},
   "source": [
    "## Download a Pre-Trained Model \n",
    "\n",
    "We begin by downloading a pre-trained Fast-Depth model. This implemetation is based on [Pytorch Fast-Depth](https://github.com/dwofk/fast-depth). "
   ]
  },
  {
   "cell_type": "code",
   "id": "e8395b28-4732-4d18-b081-5d3bdf508691",
   "metadata": {
    "ExecuteTime": {
     "end_time": "2024-10-10T14:09:17.693158Z",
     "start_time": "2024-10-10T14:08:44.434067Z"
    }
   },
   "source": [
    "from tutorials.mct_model_garden.models_pytorch.fastdepth.fastdepth import FastDepth\n",
    "from model_compression_toolkit.core.pytorch.utils import get_working_device\n",
    "model = FastDepth.from_pretrained(\"SSI-DNN/pytorch_fastdepth_224x224\")\n",
    "model.eval()\n",
    "\n",
    "# Move to device\n",
    "device = get_working_device()\n",
    "model.to(device)"
   ],
   "outputs": [],
   "execution_count": 3
  },
  {
   "cell_type": "markdown",
   "id": "3cde2f8e-0642-4374-a1f4-df2775fe7767",
   "metadata": {},
   "source": [
    "## Quantization\n",
    "\n",
    "### Post training quantization (PTQ) using Model Compression Toolkit (MCT)\n",
    "\n",
    "Now, we are all set to use MCT's post-training quantization. To begin, we'll use a representative dataset of lsun-bedrooms and proceed with the model quantization. We'll calibrate the model using 80 representative images, divided into 20 iterations of 'batch_size' images each. \n",
    "\n",
    "### Representitive Dataset"
   ]
  },
  {
   "cell_type": "code",
   "id": "56393342-cecf-4f64-b9ca-2f515c765942",
   "metadata": {
    "collapsed": false,
    "ExecuteTime": {
     "end_time": "2024-10-10T14:09:22.290843Z",
     "start_time": "2024-10-10T14:09:17.701423Z"
    }
   },
   "source": [
    "from torch.utils.data import DataLoader, Dataset\n",
    "from torchvision import transforms\n",
    "from datasets import load_dataset\n",
    "from typing import Iterator, Tuple, List\n",
    "\n",
    "BATCH_SIZE = 4\n",
    "n_iters = 20\n",
    "\n",
    "class ValDataset(Dataset):\n",
    "    def __init__(self, dataset):\n",
    "        super(ValDataset, self).__init__()\n",
    "        self.dataset = dataset\n",
    "        self.val_transform = transforms.Compose([\n",
    "            transforms.Resize((224, 224)),\n",
    "            transforms.ToTensor()])\n",
    "\n",
    "    def __len__(self):\n",
    "        return len(self.dataset)\n",
    "\n",
    "    def __getitem__(self, index):\n",
    "        img = self.dataset[index]['image']\n",
    "        tensor = self.val_transform(img)\n",
    "        return tensor\n",
    "\n",
    "dataset = load_dataset(\"pcuenq/lsun-bedrooms\",split=\"test\")\n",
    "val_dataset = ValDataset(dataset)\n",
    "val_loader = DataLoader(val_dataset, batch_size=BATCH_SIZE, shuffle=False, num_workers=4)\n",
    "\n",
    "# Define representative dataset generator\n",
    "def get_representative_dataset(n_iter: int, dataset_loader: Iterator[Tuple]):\n",
    "    \"\"\"\n",
    "    This function creates a representative dataset generator. The generator yields numpy\n",
    "        arrays of batches of shape: [Batch, H, W ,C].\n",
    "    Args:\n",
    "        n_iter: number of iterations for MCT to calibrate on\n",
    "        dataset_loader: iterator object of dataset loader\n",
    "    Returns:\n",
    "        A representative dataset generator\n",
    "    \"\"\"       \n",
    "    def representative_dataset() -> Iterator[List]:\n",
    "        ds_iter = iter(dataset_loader)\n",
    "        for _ in range(n_iter):\n",
    "            yield [next(ds_iter)]\n",
    "\n",
    "    return representative_dataset\n",
    "\n",
    "# Get representative dataset generator\n",
    "representative_dataset_gen = get_representative_dataset(n_iter=n_iters, dataset_loader=val_loader)\n"
   ],
   "outputs": [],
   "execution_count": 4
  },
  {
   "metadata": {},
   "cell_type": "markdown",
   "source": "### Post-Training Quantization (PTQ)",
   "id": "bb1bfcca03ce55c"
  },
  {
   "metadata": {
    "ExecuteTime": {
     "end_time": "2024-10-10T14:09:25.749346Z",
     "start_time": "2024-10-10T14:09:22.291787Z"
    }
   },
   "cell_type": "code",
   "source": [
    "import model_compression_toolkit as mct\n",
    "\n",
    "# Set IMX500 TPC\n",
    "tpc = mct.get_target_platform_capabilities(fw_name=\"pytorch\",\n",
    "                                           target_platform_name='imx500',\n",
    "                                           target_platform_version='v3')\n",
    "\n",
    "# Perform post training quantization\n",
    "quant_model, _ = mct.ptq.pytorch_post_training_quantization(in_module=model,\n",
    "                                                            representative_data_gen=representative_dataset_gen,\n",
    "                                                            target_platform_capabilities=tpc)\n",
    "\n",
    "\n",
    "print('Quantized model is ready!')"
   ],
   "id": "55177376aca838c0",
   "outputs": [],
   "execution_count": 5
  },
  {
   "cell_type": "markdown",
   "id": "3be2016acdc9da60",
   "metadata": {
    "collapsed": false
   },
   "source": [
    "### Export\n",
    "\n",
    "Now, we can export the quantized model, ready for deployment om IMX500, into a `.onnx` format file. Please ensure that the `save_model_path` has been set correctly. "
   ]
  },
  {
   "cell_type": "code",
   "id": "72dd885c7b92fa93",
   "metadata": {
    "collapsed": false,
    "ExecuteTime": {
     "end_time": "2024-10-10T14:09:25.753622Z",
     "start_time": "2024-10-10T14:09:25.751902Z"
    }
   },
   "source": [
    "mct.exporter.pytorch_export_model(model=quant_model,\n",
    "                                  save_model_path='./model.onnx',\n",
    "                                  repr_dataset=representative_dataset_gen)"
   ],
   "outputs": [],
   "execution_count": null
  },
  {
   "cell_type": "markdown",
   "id": "43a8a6d11d696b09",
   "metadata": {
    "collapsed": false
   },
   "source": [
    "## Visualize samples from lsun-bedrooms\n",
    "Next, we visualize a sample of RGB image along with its depth image from the floating point and the quantized model."
   ]
  },
  {
   "cell_type": "code",
   "id": "01e90967-594b-480f-b2e6-45e2c9ce9cee",
   "metadata": {
    "ExecuteTime": {
     "end_time": "2024-10-10T14:10:55.776013Z",
     "start_time": "2024-10-10T14:10:55.017073Z"
    }
   },
   "source": [
    "import torch\n",
    "import numpy as np\n",
    "import matplotlib.pyplot as plt\n",
    "from PIL import Image\n",
    "\n",
    "cmap = plt.cm.viridis\n",
    "\n",
    "def colored_depthmap(depth: np.ndarray, d_min: float = None, d_max: float = None) -> np.ndarray:\n",
    "    \"\"\"\n",
    "    This function create depth map for visualization.\n",
    "    Args:\n",
    "        depth: depth image\n",
    "        d_min: minimum depth\n",
    "        d_max: maximum depth\n",
    "    Returns:\n",
    "        A depth map\n",
    "    \"\"\"  \n",
    "    if d_min is None:\n",
    "        d_min = np.min(depth)\n",
    "    if d_max is None:\n",
    "        d_max = np.max(depth)\n",
    "    depth_relative = (depth - d_min) / (d_max - d_min)\n",
    "    return 255 * cmap(depth_relative)[:,:,:3] # H, W, C\n",
    "\n",
    "def merge_into_row(img: torch.tensor, depth_float: torch.tensor, depth_quant: torch.tensor) -> torch.tensor:\n",
    "    \"\"\"\n",
    "    This function that merge output of 2 depth estimation result together for visualization.\n",
    "    Args:\n",
    "        img: RGB image\n",
    "        depth_float: Depth image of floating-point model\n",
    "        depth_quant: Depth image of quantized model\n",
    "    Returns:\n",
    "        A merged image\n",
    "    \"\"\"  \n",
    "    rgb = 255 * np.transpose(np.squeeze(img.detach().cpu().numpy()), (1,2,0)) # H, W, C\n",
    "    depth_float = np.squeeze(depth_float.detach().cpu().numpy())\n",
    "    depth_quant = np.squeeze(depth_quant.detach().cpu().numpy())\n",
    "\n",
    "    d_min = min(np.min(depth_float), np.min(depth_quant))\n",
    "    d_max = max(np.max(depth_float), np.max(depth_quant))\n",
    "    depth_float_col = colored_depthmap(depth_float, d_min, d_max)\n",
    "    depth_quant_col = colored_depthmap(depth_quant, d_min, d_max)\n",
    "    img_merge = np.hstack([rgb, depth_float_col, depth_quant_col])\n",
    "    \n",
    "    return img_merge\n",
    "\n",
    "\n",
    "# Take a sample\n",
    "SAMPLE_IDX = 0\n",
    "img = val_dataset[SAMPLE_IDX]\n",
    "img = img.unsqueeze(0).to(device) # adding batch size\n",
    "\n",
    "# Inference float-point and quantized models\n",
    "depth_float = model(img)\n",
    "depth_quant = quant_model(img)\n",
    "\n",
    "# Create and save image for visualization\n",
    "merge_img = merge_into_row(img, depth_float, depth_quant)\n",
    "merge_img = Image.fromarray(merge_img.astype('uint8'))\n",
    "merge_img.save(\"depth.png\")\n",
    "print('Depth image is saved!')"
   ],
   "outputs": [],
   "execution_count": 6
  },
  {
   "cell_type": "markdown",
   "id": "6d93352843a27433",
   "metadata": {
    "collapsed": false
   },
   "source": [
    "\n",
    "Copyright 2024 Sony Semiconductor Israel, Inc. All rights reserved.\n",
    "\n",
    "Licensed under the Apache License, Version 2.0 (the \"License\");\n",
    "you may not use this file except in compliance with the License.\n",
    "You may obtain a copy of the License at\n",
    "\n",
    "    http://www.apache.org/licenses/LICENSE-2.0\n",
    "\n",
    "Unless required by applicable law or agreed to in writing, software\n",
    "distributed under the License is distributed on an \"AS IS\" BASIS,\n",
    "WITHOUT WARRANTIES OR CONDITIONS OF ANY KIND, either express or implied.\n",
    "See the License for the specific language governing permissions and\n",
    "limitations under the License."
   ]
  }
 ],
 "metadata": {
  "colab": {
   "provenance": []
  },
  "kernelspec": {
   "display_name": "Python 3 (ipykernel)",
   "language": "python",
   "name": "python3"
  },
  "language_info": {
   "codemirror_mode": {
    "name": "ipython",
    "version": 3
   },
   "file_extension": ".py",
   "mimetype": "text/x-python",
   "name": "python",
   "nbconvert_exporter": "python",
   "pygments_lexer": "ipython3",
   "version": "3.11.4"
  }
 },
 "nbformat": 4,
 "nbformat_minor": 5
}
