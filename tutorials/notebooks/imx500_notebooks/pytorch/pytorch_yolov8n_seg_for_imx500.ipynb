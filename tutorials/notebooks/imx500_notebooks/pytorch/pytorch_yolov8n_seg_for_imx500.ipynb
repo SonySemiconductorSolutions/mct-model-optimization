{
 "cells": [
  {
   "cell_type": "markdown",
   "id": "fab9d9939dc74da4",
   "metadata": {
    "collapsed": false,
    "id": "fab9d9939dc74da4"
   },
   "source": [
    "# YOLOv8n Object Detection PyTorch Model - Quantization for IMX500\n",
    "\n",
    "[Run this tutorial in Google Colab](https://colab.research.google.com/github/sony/model_optimization/blob/main/tutorials/notebooks/imx500_notebooks/pytorch/pytorch_yolov8n_seg_for_imx500.ipynb)\n",
    "\n",
    "## Overview\n",
    "\n",
    "In this tutorial, we will illustrate a basic and quick process of preparing a pre-trained model for deployment using MCT. Specifically, we will demonstrate how to download a pre-trained YOLOv8n instance segmentation model from the MCT Models Library, compress it, and make it deployment-ready using MCT's post-training quantization techniques.\n",
    "\n",
    "We will use an existing pre-trained YOLOv8n instance segmentation model based on [Ultralytics](https://github.com/ultralytics/ultralytics). The model was slightly adjusted for model quantization. We will quantize the model using MCT post training quantization and evaluate the performance of the floating point model and the quantized model on COCO dataset.\n",
    "\n",
    "\n",
    "## Summary\n",
    "\n",
    "In this tutorial we will cover:\n",
    "\n",
    "1. Post-Training Quantization using MCT of PyTorch object detection model.\n",
    "2. Data preparation - loading and preprocessing validation and representative datasets from COCO.\n",
    "3. Accuracy evaluation of the floating-point and the quantized models."
   ]
  },
  {
   "cell_type": "markdown",
   "id": "d74f9c855ec54081",
   "metadata": {
    "collapsed": false,
    "id": "d74f9c855ec54081"
   },
   "source": [
    "## Setup\n",
    "### Install the relevant packages"
   ]
  },
  {
   "cell_type": "code",
   "execution_count": null,
   "id": "7c7fa04c9903736f",
   "metadata": {
    "colab": {
     "base_uri": "https://localhost:8080/"
    },
    "id": "7c7fa04c9903736f",
    "outputId": "51eab6ab-4821-4cd4-9210-3561fd15a09c"
   },
   "outputs": [],
   "source": [
    "!pip install -q torch\n",
    "!pip install onnx\n",
    "!pip install -q pycocotools\n",
    "!pip install 'huggingface-hub>=0.21.0'"
   ]
  },
  {
   "cell_type": "markdown",
   "id": "57717bc8f59a0d85",
   "metadata": {
    "collapsed": false,
    "id": "57717bc8f59a0d85"
   },
   "source": [
    " Clone a copy of the [MCT](https://github.com/sony/model_optimization) (Model Compression Toolkit) into your current directory. This step ensures that you have access to [MCT Models Garden](https://github.com/sony/model_optimization/tree/main/tutorials/mct_model_garden) folder which contains all the necessary utility functions for this tutorial.\n",
    "  **It's important to note that we use the most up-to-date MCT code available.**"
   ]
  },
  {
   "cell_type": "code",
   "execution_count": null,
   "id": "9728247bc20d0600",
   "metadata": {
    "colab": {
     "base_uri": "https://localhost:8080/"
    },
    "id": "9728247bc20d0600",
    "outputId": "e4d117a5-b62c-477d-f1fd-aa51daadd10e"
   },
   "outputs": [],
   "source": [
    "import sys\n",
    "import os\n",
    "import importlib\n",
    "\n",
    "if not importlib.util.find_spec('model_compression_toolkit'):\n",
    "    !pip install model_compression_toolkit\n",
    "!git clone https://github.com/sony/model_optimization.git temp_mct && mv temp_mct/tutorials . && \\rm -rf temp_mct\n",
    "sys.path.insert(0,\"tutorials\")"
   ]
  },
  {
   "cell_type": "markdown",
   "id": "7a1038b9fd98bba2",
   "metadata": {
    "collapsed": false,
    "id": "7a1038b9fd98bba2"
   },
   "source": [
    "### Download COCO evaluation set"
   ]
  },
  {
   "cell_type": "code",
   "execution_count": null,
   "id": "8bea492d71b4060f",
   "metadata": {
    "colab": {
     "base_uri": "https://localhost:8080/"
    },
    "id": "8bea492d71b4060f",
    "outputId": "ad92251a-1893-4d38-9322-7cb7ffb3f9c8"
   },
   "outputs": [],
   "source": [
    "if not os.path.isdir('coco'):\n",
    "    !wget -nc http://images.cocodataset.org/annotations/annotations_trainval2017.zip\n",
    "    !unzip -q -o annotations_trainval2017.zip -d ./coco\n",
    "    !echo Done loading annotations\n",
    "    !wget -nc http://images.cocodataset.org/zips/val2017.zip\n",
    "    !unzip -q -o val2017.zip -d ./coco\n",
    "    !echo Done loading val2017 images"
   ]
  },
  {
   "cell_type": "markdown",
   "id": "084c2b8b-3175-4d46-a18a-7c4d8b6fcb38",
   "metadata": {
    "id": "084c2b8b-3175-4d46-a18a-7c4d8b6fcb38"
   },
   "source": [
    "## Model Quantization\n",
    "\n",
    "### Download a Pre-Trained Model\n",
    "\n",
    "We begin by loading a pre-trained [YOLOv8n](https://huggingface.co/SSI-DNN/pytorch_yolov8n_inst_seg_640x640) model. This implementation is based on [Ultralytics](https://github.com/ultralytics/ultralytics) and includes a slightly modified version of yolov8 detection and segmentation head that was adapted for model quantization. For further insights into the model's implementation details, please refer to [MCT Models Garden - yolov8](https://github.com/sony/model_optimization/tree/main/tutorials/mct_model_garden/models_pytorch/yolov8).  "
   ]
  },
  {
   "cell_type": "code",
   "execution_count": null,
   "id": "NDogtE_0ANsL",
   "metadata": {
    "colab": {
     "base_uri": "https://localhost:8080/"
    },
    "id": "NDogtE_0ANsL",
    "outputId": "b7942fd3-02a1-4126-98c9-387c4bc90748"
   },
   "outputs": [],
   "source": [
    "from tutorials.mct_model_garden.models_pytorch.yolov8.yolov8 import ModelPyTorch, yaml_load\n",
    "cfg_dict = yaml_load(\"./tutorials/mct_model_garden/models_pytorch/yolov8/yolov8-seg.yaml\", append_filename=True)  # model dict\n",
    "model = ModelPyTorch.from_pretrained(\"SSI-DNN/pytorch_yolov8n_inst_seg_640x640\", cfg=cfg_dict, mode='segmentation')"
   ]
  },
  {
   "cell_type": "markdown",
   "id": "3cde2f8e-0642-4374-a1f4-df2775fe7767",
   "metadata": {
    "id": "3cde2f8e-0642-4374-a1f4-df2775fe7767"
   },
   "source": [
    "### Post training quantization using Model Compression Toolkit\n",
    "\n",
    "Now, we're all set to use MCT's post-training quantization. To begin, we'll define a representative dataset and proceed with the model quantization. Please note that, for demonstration purposes, we'll use the evaluation dataset as our representative dataset. We'll calibrate the model using 100 representative images, divided into 20 iterations of 'batch_size' images each.\n",
    "\n",
    "Additionally, to further compress the model's memory footprint, we will employ the mixed-precision quantization technique. This method allows each layer to be quantized with different precision options: 2, 4, and 8 bits, aligning with the imx500 target platform capabilities."
   ]
  },
  {
   "cell_type": "code",
   "execution_count": null,
   "id": "56393342-cecf-4f64-b9ca-2f515c765942",
   "metadata": {
    "id": "56393342-cecf-4f64-b9ca-2f515c765942"
   },
   "outputs": [],
   "source": [
    "import model_compression_toolkit as mct\n",
    "from tutorials.mct_model_garden.evaluation_metrics.coco_evaluation import coco_dataset_generator\n",
    "from tutorials.mct_model_garden.models_pytorch.yolov8.yolov8_preprocess import yolov8_preprocess_chw_transpose\n",
    "from typing import Iterator, Tuple, List\n",
    "\n",
    "REPRESENTATIVE_DATASET_FOLDER = './coco/val2017/'\n",
    "REPRESENTATIVE_DATASET_ANNOTATION_FILE = './coco/annotations/instances_val2017.json'\n",
    "BATCH_SIZE = 4\n",
    "n_iters = 20\n",
    "\n",
    "# Load representative dataset\n",
    "representative_dataset = coco_dataset_generator(dataset_folder=REPRESENTATIVE_DATASET_FOLDER,\n",
    "                                                annotation_file=REPRESENTATIVE_DATASET_ANNOTATION_FILE,\n",
    "                                                preprocess=yolov8_preprocess_chw_transpose,\n",
    "                                                batch_size=BATCH_SIZE)\n",
    "\n",
    "# Define representative dataset generator\n",
    "def get_representative_dataset(n_iter: int, dataset_loader: Iterator[Tuple]):\n",
    "    \"\"\"\n",
    "    This function creates a representative dataset generator. The generator yields numpy\n",
    "        arrays of batches of shape: [Batch, H, W ,C].\n",
    "    Args:\n",
    "        n_iter: number of iterations for MCT to calibrate on\n",
    "    Returns:\n",
    "        A representative dataset generator\n",
    "    \"\"\"\n",
    "    def representative_dataset() -> Iterator[List]:\n",
    "        ds_iter = iter(dataset_loader)\n",
    "        for _ in range(n_iter):\n",
    "            yield [next(ds_iter)[0]]\n",
    "\n",
    "    return representative_dataset\n",
    "\n",
    "# Get representative dataset generator\n",
    "representative_dataset_gen = get_representative_dataset(n_iter=n_iters,\n",
    "                                                        dataset_loader=representative_dataset)\n",
    "\n",
    "# Set IMX500-v1 TPC\n",
    "tpc = mct.get_target_platform_capabilities(fw_name=\"pytorch\",\n",
    "                                           target_platform_name='imx500',\n",
    "                                           target_platform_version='v1')\n",
    "\n",
    "# Specify the necessary configuration for mixed precision quantization. To keep the tutorial brief, we'll use a small set of images and omit the hessian metric for mixed precision calculations. It's important to be aware that this choice may impact the resulting accuracy.\n",
    "mp_config = mct.core.MixedPrecisionQuantizationConfig(num_of_images=5,\n",
    "                                                      use_hessian_based_scores=False)\n",
    "config = mct.core.CoreConfig(mixed_precision_config=mp_config,\n",
    "                             quantization_config=mct.core.QuantizationConfig(shift_negative_activation_correction=True))\n",
    "\n",
    "# Define target Resource Utilization for mixed precision weights quantization (75% of 'standard' 8bits quantization)\n",
    "resource_utilization_data = mct.core.pytorch_resource_utilization_data(in_model=model,\n",
    "                                                                       representative_data_gen=\n",
    "                                                                       representative_dataset_gen,\n",
    "                                                                       core_config=config,\n",
    "                                                                       target_platform_capabilities=tpc)\n",
    "resource_utilization = mct.core.ResourceUtilization(weights_memory=resource_utilization_data.weights_memory * 0.75)\n",
    "\n",
    "# Perform post training quantization\n",
    "quant_model, _ = mct.ptq.pytorch_post_training_quantization(in_module=model,\n",
    "                                                            representative_data_gen=\n",
    "                                                            representative_dataset_gen,\n",
    "                                                            target_resource_utilization=resource_utilization,\n",
    "                                                            core_config=config,\n",
    "                                                            target_platform_capabilities=tpc)\n"
   ]
  },
  {
   "cell_type": "markdown",
   "id": "3be2016acdc9da60",
   "metadata": {
    "collapsed": false,
    "id": "3be2016acdc9da60"
   },
   "source": [
    "### Model Export\n",
    "\n",
    "Now, we can export the quantized model, ready for deployment, into a `.onnx` format file. Please ensure that the `save_model_path` has been set correctly."
   ]
  },
  {
   "cell_type": "code",
   "execution_count": null,
   "id": "72dd885c7b92fa93",
   "metadata": {
    "id": "72dd885c7b92fa93"
   },
   "outputs": [],
   "source": [
    "import model_compression_toolkit as mct\n",
    "\n",
    "mct.exporter.pytorch_export_model(model=quant_model,\n",
    "                                  save_model_path='./quant_model.onnx',\n",
    "                                  repr_dataset=representative_dataset_gen)"
   ]
  },
  {
   "cell_type": "markdown",
   "id": "655d764593af0763",
   "metadata": {
    "collapsed": false,
    "id": "655d764593af0763"
   },
   "source": [
    "### Gradient-Based Post Training Quantization using Model Compression Toolkit\n",
    "Here we demonstrate how to further optimize the quantized model performance using gradient-based PTQ technique.\n",
    "**Please note that this section is computationally heavy, and it's recommended to run it on a GPU. For fast deployment, you may choose to skip this step.**\n",
    "\n",
    "We will start by loading the COCO training set, and re-define the representative dataset accordingly."
   ]
  },
  {
   "cell_type": "code",
   "execution_count": null,
   "id": "20fe96b6cc95d38c",
   "metadata": {
    "colab": {
     "base_uri": "https://localhost:8080/"
    },
    "id": "20fe96b6cc95d38c",
    "outputId": "22b0be33-ef7b-490a-82ae-7eb02a3474a2",
    "tags": [
     "long_run"
    ]
   },
   "outputs": [],
   "source": [
    "!wget -nc http://images.cocodataset.org/zips/train2017.zip\n",
    "!unzip -q -o train2017.zip -d ./coco\n",
    "!echo Done loading train2017 images\n",
    "\n",
    "GPTQ_REPRESENTATIVE_DATASET_FOLDER = './coco/train2017/'\n",
    "GPTQ_REPRESENTATIVE_DATASET_ANNOTATION_FILE = './coco/annotations/instances_train2017.json'\n",
    "BATCH_SIZE = 4\n",
    "n_iters = 20\n",
    "\n",
    "# Load representative dataset\n",
    "gptq_representative_dataset = coco_dataset_generator(dataset_folder=GPTQ_REPRESENTATIVE_DATASET_FOLDER,\n",
    "                                                annotation_file=GPTQ_REPRESENTATIVE_DATASET_ANNOTATION_FILE,\n",
    "                                                preprocess=yolov8_preprocess_chw_transpose,\n",
    "                                                batch_size=BATCH_SIZE)\n",
    "\n",
    "# Get representative dataset generator\n",
    "gptq_representative_dataset_gen = get_representative_dataset(n_iter=n_iters,\n",
    "                                                        dataset_loader=gptq_representative_dataset)"
   ]
  },
  {
   "cell_type": "markdown",
   "id": "29d54f733139d114",
   "metadata": {
    "collapsed": false,
    "id": "29d54f733139d114"
   },
   "source": [
    "Next, we'll set up the Gradient-Based PTQ configuration and execute the necessary MCT command. Keep in mind that this step can be time-consuming, depending on your runtime. We recomend for the best results increase n_gptq_epochs to > 1000 "
   ]
  },
  {
   "cell_type": "code",
   "execution_count": null,
   "id": "240421e00f6cce34",
   "metadata": {
    "id": "240421e00f6cce34",
    "tags": [
     "long_run"
    ]
   },
   "outputs": [],
   "source": [
    "# Specify the necessary configuration for Gradient-Based PTQ.\n",
    "n_gptq_epochs = 15 # for best results increase this value to 1000\n",
    "gptq_config = mct.gptq.get_pytorch_gptq_config(n_epochs=n_gptq_epochs, use_hessian_based_weights=False)\n",
    "\n",
    "# Perform Gradient-Based Post Training Quantization\n",
    "gptq_quant_model, _ = mct.gptq.pytorch_gradient_post_training_quantization(\n",
    "    model=model,\n",
    "    representative_data_gen=gptq_representative_dataset_gen,\n",
    "    target_resource_utilization=resource_utilization,\n",
    "    gptq_config=gptq_config,\n",
    "    core_config=config,\n",
    "    target_platform_capabilities=tpc)"
   ]
  },
  {
   "cell_type": "markdown",
   "id": "b5d72e8420550101",
   "metadata": {
    "collapsed": false,
    "id": "b5d72e8420550101"
   },
   "source": [
    "### Model Export\n",
    "\n",
    "Now, we can export the quantized model, ready for deployment, into a `.onnx` format file. Please ensure that the `save_model_path` has been set correctly. This can be converted with sdsp to imx500 format."
   ]
  },
  {
   "cell_type": "code",
   "execution_count": null,
   "id": "546ff946af81702b",
   "metadata": {
    "colab": {
     "base_uri": "https://localhost:8080/"
    },
    "id": "546ff946af81702b",
    "outputId": "cf627960-7b8b-423c-8cae-fbccddcb76f3",
    "tags": [
     "long_run"
    ]
   },
   "outputs": [],
   "source": [
    "mct.exporter.pytorch_export_model(model=gptq_quant_model,\n",
    "                                  save_model_path='./qmodel_gptq.onnx',\n",
    "                                  repr_dataset=gptq_representative_dataset_gen)"
   ]
  },
  {
   "cell_type": "markdown",
   "id": "43a8a6d11d696b09",
   "metadata": {
    "collapsed": false,
    "id": "43a8a6d11d696b09"
   },
   "source": [
    "## Evaluation on COCO dataset\n",
    "\n",
    "### Floating point model evaluation\n",
    "Next, we evaluate the floating point model by using `cocoeval` library alongside additional dataset utilities. We can verify the mAP accuracy aligns with that of the original model.\n",
    "Please ensure that the dataset path has been set correctly before running this code cell. Adjust img_ids_limit based on your runtime. "
   ]
  },
  {
   "cell_type": "code",
   "execution_count": null,
   "id": "FPahWaGApRsf",
   "metadata": {
    "colab": {
     "base_uri": "https://localhost:8080/"
    },
    "id": "FPahWaGApRsf",
    "outputId": "8917ad48-88f2-476d-852e-fa6a3f067919"
   },
   "outputs": [],
   "source": [
    "from tutorials.mct_model_garden.models_pytorch.yolov8.yolov8 import seg_model_predict\n",
    "from tutorials.mct_model_garden.evaluation_metrics.coco_evaluation import evaluate_yolov8_segmentation\n",
    "from model_compression_toolkit.core.pytorch.pytorch_device_config import get_working_device\n",
    "device = get_working_device()\n",
    "model = model.to(device)\n",
    "evaluate_yolov8_segmentation(model, seg_model_predict, data_dir='coco', data_type='val2017', img_ids_limit=100, output_file='results.json', iou_thresh=0.7, conf=0.001, max_dets=300,mask_thresh=0.55)"
   ]
  },
  {
   "cell_type": "markdown",
   "id": "4fb6bffc-23d1-4852-8ec5-9007361c8eeb",
   "metadata": {
    "id": "4fb6bffc-23d1-4852-8ec5-9007361c8eeb"
   },
   "source": [
    "### Quantized model evaluation\n",
    "We can evaluate the performance of the quantized model. There is a slight decrease in performance that can be further mitigated by either expanding the representative dataset or employing MCT's advanced quantization methods, such as GPTQ (Gradient-Based/Enhanced Post Training Quantization)."
   ]
  },
  {
   "cell_type": "code",
   "execution_count": null,
   "id": "WudMfYEOsEFK",
   "metadata": {
    "id": "WudMfYEOsEFK"
   },
   "outputs": [],
   "source": [
    "from tutorials.mct_model_garden.evaluation_metrics.coco_evaluation import evaluate_yolov8_segmentation\n",
    "evaluate_yolov8_segmentation(quant_model, seg_model_predict, data_dir='coco', data_type='val2017', img_ids_limit=100, output_file='results_quant.json', iou_thresh=0.7, conf=0.001, max_dets=300,mask_thresh=0.55)"
   ]
  },
  {
   "cell_type": "markdown",
   "id": "3bb5cc7c91dc8f21",
   "metadata": {
    "collapsed": false,
    "id": "3bb5cc7c91dc8f21"
   },
   "source": [
    "### Gradient quant Evaluation\n",
    "Finally, we can evaluate the performance of the quantized model through GPTQ (Gradient-Based/Enhanced Post Training Quantization). We anticipate an improvement in performance compare to the quantized model utilizing PTQ."
   ]
  },
  {
   "cell_type": "code",
   "execution_count": null,
   "id": "VLwCbC2_szpy",
   "metadata": {
    "id": "VLwCbC2_szpy",
    "tags": [
     "long_run"
    ]
   },
   "outputs": [],
   "source": [
    "from tutorials.mct_model_garden.evaluation_metrics.coco_evaluation import evaluate_yolov8_segmentation\n",
    "evaluate_yolov8_segmentation(gptq_quant_model, seg_model_predict, data_dir='coco', data_type='val2017', img_ids_limit=100, output_file='results_g_quant.json', iou_thresh=0.7, conf=0.001, max_dets=300,mask_thresh=0.55)"
   ]
  },
  {
   "cell_type": "markdown",
   "id": "G-IcwtruCh9P",
   "metadata": {
    "id": "G-IcwtruCh9P"
   },
   "source": [
    "### Visulise Predictions\n",
    "\n",
    "Finally we can visulise the predictions. Code segment below displays the predictions used for evaluation against the ground truth for an image. To view the output of a different model run evaluation for a said model and align the results.json file below.\n",
    "A random set of images are displayed."
   ]
  },
  {
   "cell_type": "code",
   "execution_count": null,
   "id": "PXiLCy1j92kE",
   "metadata": {
    "colab": {
     "base_uri": "https://localhost:8080/",
     "height": 1000
    },
    "id": "PXiLCy1j92kE",
    "outputId": "f6251c47-5665-4c77-ddc0-780f40401a6a"
   },
   "outputs": [],
   "source": [
    "import cv2\n",
    "import numpy as np\n",
    "from matplotlib import pyplot as plt\n",
    "from pycocotools.coco import COCO\n",
    "import json\n",
    "import random\n",
    "\n",
    "# Number of sets to display\n",
    "num_sets = 20\n",
    "\n",
    "# adjust results file name to view quant and gradient quant\n",
    "with open('results.json', 'r') as file:\n",
    "    results = json.load(file)\n",
    "\n",
    "# Extract unique image IDs from the results\n",
    "result_imgIds = list({result['image_id'] for result in results})\n",
    "\n",
    "dataDir = 'coco'\n",
    "dataType = 'val2017'\n",
    "annFile = f'{dataDir}/annotations/instances_{dataType}.json'\n",
    "resultsFile = 'results.json'\n",
    "cocoGt = COCO(annFile)\n",
    "cocoDt = cocoGt.loadRes(resultsFile)\n",
    "plt.figure(figsize=(15, 7 * num_sets))\n",
    "\n",
    "for i in range(num_sets):\n",
    "    random_imgId = random.choice(result_imgIds)\n",
    "    img = cocoGt.loadImgs(random_imgId)[0]\n",
    "    image_path = f'{dataDir}/{dataType}/{img[\"file_name\"]}'\n",
    "    image = cv2.imread(image_path)\n",
    "    image = cv2.cvtColor(image, cv2.COLOR_BGR2RGB)  # Convert from BGR to RGB\n",
    "\n",
    "    plt.subplot(num_sets, 2, 2*i + 1)\n",
    "    plt.imshow(image)\n",
    "    plt.axis('off')\n",
    "    plt.title(f'Ground Truth {random_imgId}')\n",
    "\n",
    "    # Load and display ground truth annotations with bounding boxes\n",
    "    annIds = cocoGt.getAnnIds(imgIds=img['id'], iscrowd=None)\n",
    "    anns = cocoGt.loadAnns(annIds)\n",
    "    for ann in anns:\n",
    "        cocoGt.showAnns([ann], draw_bbox=True)\n",
    "        # Draw category ID on the image\n",
    "        bbox = ann['bbox']\n",
    "        plt.text(bbox[0], bbox[1], str(ann['category_id']), color='white', fontsize=12, bbox=dict(facecolor='red', alpha=0.5))\n",
    "\n",
    "    plt.subplot(num_sets, 2, 2*i + 2)\n",
    "    plt.imshow(image)\n",
    "    plt.axis('off')\n",
    "    plt.title(f'Model Output {random_imgId}')\n",
    "\n",
    "    # Load and display model predictions with bounding boxes\n",
    "    annIdsDt = cocoDt.getAnnIds(imgIds=img['id'])\n",
    "    annsDt = cocoDt.loadAnns(annIdsDt)\n",
    "    for ann in annsDt:\n",
    "        cocoDt.showAnns([ann], draw_bbox=True)\n",
    "        # Draw category ID on the image\n",
    "        bbox = ann['bbox']\n",
    "        plt.text(bbox[0], bbox[1], str(ann['category_id']), color='white', fontsize=12, bbox=dict(facecolor='blue', alpha=0.5))\n",
    "\n",
    "plt.tight_layout()\n",
    "plt.show()"
   ]
  },
  {
   "cell_type": "markdown",
   "id": "2dbb8c1d",
   "metadata": {},
   "source": [
    "### Summary\n",
    "\n",
    "In this notebook we load weights of yolov8n_instance_segmentation model quantise said model with both ptq and gradient based methods, evaluate and finally show the user a method for visulisation."
   ]
  },
  {
   "cell_type": "markdown",
   "id": "6d93352843a27433",
   "metadata": {
    "collapsed": false,
    "id": "6d93352843a27433"
   },
   "source": [
    "\\\n",
    "Copyright 2024 Sony Semiconductor Israel, Inc. All rights reserved.\n",
    "\n",
    "Licensed under the Apache License, Version 2.0 (the \"License\");\n",
    "you may not use this file except in compliance with the License.\n",
    "You may obtain a copy of the License at\n",
    "\n",
    "    http://www.apache.org/licenses/LICENSE-2.0\n",
    "\n",
    "Unless required by applicable law or agreed to in writing, software\n",
    "distributed under the License is distributed on an \"AS IS\" BASIS,\n",
    "WITHOUT WARRANTIES OR CONDITIONS OF ANY KIND, either express or implied.\n",
    "See the License for the specific language governing permissions and\n",
    "limitations under the License."
   ]
  }
 ],
 "metadata": {
  "colab": {
   "provenance": []
  },
  "kernelspec": {
   "display_name": "Python 3 (ipykernel)",
   "language": "python",
   "name": "python3"
  },
  "language_info": {
   "codemirror_mode": {
    "name": "ipython",
    "version": 3
   },
   "file_extension": ".py",
   "mimetype": "text/x-python",
   "name": "python",
   "nbconvert_exporter": "python",
   "pygments_lexer": "ipython3",
   "version": "3.11.4"
  }
 },
 "nbformat": 4,
 "nbformat_minor": 5
}
