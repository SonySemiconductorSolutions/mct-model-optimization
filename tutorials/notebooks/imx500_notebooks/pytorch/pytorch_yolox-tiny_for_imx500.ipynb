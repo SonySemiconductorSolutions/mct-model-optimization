{
 "cells": [
  {
   "cell_type": "markdown",
   "id": "fab9d9939dc74da4",
   "metadata": {
    "collapsed": false
   },
   "source": [
    "# YOLOX-Tiny Object Detection - Quantization for IMX500\n",
    "\n",
    "[Run this tutorial in Google Colab](https://colab.research.google.com/github/sony/model_optimization/blob/main/tutorials/notebooks/imx500_notebooks/pytorch/pytorch_yolox-tiny_for_imx500.ipynb)\n",
    "\n",
    "## Overview\n",
    "\n",
    "In this tutorial, we will illustrate a basic and quick process of preparing a pre-trained model for deployment using MCT. Specifically, we will demonstrate how to download a pre-trained pytorch YOLOX-Tiny model, compress it, and make it deployment-ready using MCT's post-training quantization techniques.\n",
    "\n",
    "We will use an existing pre-trained YOLOX-Tiny model based on [YOLOX](https://github.com/Megvii-BaseDetection/YOLOX) and integrate Box decoding and NMS to the model. The model was slightly adjusted for model quantization. We will quantize the model using MCT post training quantization technique and evaluate the performance of the floating point model and the quantized model on COCO dataset.\n",
    "\n",
    "\n",
    "## Summary\n",
    "\n",
    "In this tutorial we will cover:\n",
    "\n",
    "1. Post-Training Quantization (PTQ) using MCT of YoloX object detection model.\n",
    "2. Data preparation: loading and preprocessing validation and representative datasets from COCO.\n",
    "3. Accuracy evaluation of the floating-point and the quantized models."
   ]
  },
  {
   "cell_type": "markdown",
   "id": "d74f9c855ec54081",
   "metadata": {
    "collapsed": false
   },
   "source": [
    "## Setup\n",
    "### Install the relevant packages"
   ]
  },
  {
   "cell_type": "code",
   "id": "7c7fa04c9903736f",
   "metadata": {
    "collapsed": false
   },
   "source": [
    "!pip install -q torch\n",
    "!pip install onnx\n",
    "!pip install -q pycocotools\n",
    "!pip install 'sony-custom-layers'"
   ],
   "outputs": [],
   "execution_count": null
  },
  {
   "cell_type": "markdown",
   "id": "57717bc8f59a0d85",
   "metadata": {
    "collapsed": false
   },
   "source": [
    "Install MCT (if it’s not already installed). Additionally, in order to use all the necessary utility functions for this tutorial, we also copy [MCT tutorials folder](https://github.com/sony/model_optimization/tree/main/tutorials) and add it to the system path."
   ]
  },
  {
   "cell_type": "code",
   "id": "9728247bc20d0600",
   "metadata": {
    "collapsed": false
   },
   "source": [
    "import sys\n",
    "import os\n",
    "import importlib\n",
    "\n",
    "if not importlib.util.find_spec('model_compression_toolkit'):\n",
    "    !pip install model_compression_toolkit\n",
    "!git clone https://github.com/sony/model_optimization.git temp_mct && mv temp_mct/tutorials . && \\rm -rf temp_mct\n",
    "sys.path.insert(0,\"tutorials\")"
   ],
   "outputs": [],
   "execution_count": null
  },
  {
   "cell_type": "markdown",
   "id": "7a1038b9fd98bba2",
   "metadata": {
    "collapsed": false
   },
   "source": [
    "### Download COCO evaluation set"
   ]
  },
  {
   "cell_type": "code",
   "id": "8bea492d71b4060f",
   "metadata": {
    "collapsed": false
   },
   "source": [
    "if not os.path.isdir('coco'):\n",
    "    !wget -nc http://images.cocodataset.org/annotations/annotations_trainval2017.zip\n",
    "    !unzip -q -o annotations_trainval2017.zip -d ./coco\n",
    "    !echo Done loading annotations\n",
    "    !wget -nc http://images.cocodataset.org/zips/val2017.zip\n",
    "    !unzip -q -o val2017.zip -d ./coco\n",
    "    !echo Done loading val2017 images"
   ],
   "outputs": [],
   "execution_count": null
  },
  {
   "cell_type": "markdown",
   "id": "084c2b8b-3175-4d46-a18a-7c4d8b6fcb38",
   "metadata": {},
   "source": [
    "## Quantization\n",
    "\n",
    "### Download a Pre-Trained Model \n",
    "\n",
    "We begin by downloading a pre-trained YOLOX-Tiny model from [YOLOX github](https://github.com/Megvii-BaseDetection/YOLOX). This implementation is based on [YOLOX](https://github.com/Megvii-BaseDetection/YOLOX) and includes a slightly modified version of YOLOX detection-head (mainly the box decoding part) that was adapted for model quantization. For further insights into the model's implementation details, please refer to [MCT Models Garden - YOLOX](https://github.com/sony/model_optimization/tree/main/tutorials/mct_model_garden/models_pytorch/yolox).  "
   ]
  },
  {
   "cell_type": "code",
   "id": "e8395b28-4732-4d18-b081-5d3bdf508691",
   "metadata": {},
   "source": [
    "# Download YOLOX-Tiny\n",
    "!wget -nc https://github.com/Megvii-BaseDetection/YOLOX/releases/download/0.1.1rc0/yolox_tiny.pth\n",
    "\n",
    "from tutorials.mct_model_garden.models_pytorch.yolox.yolox import YOLOX\n",
    "import yaml\n",
    "\n",
    "yaml_path = \"tutorials/mct_model_garden/models_pytorch/yolox/yolox.yaml\"\n",
    "with open(yaml_path, 'r', encoding='utf-8') as f:\n",
    "    yolox_cfg = yaml.safe_load(f)\n",
    "\n",
    "yolox_tiny_cfg = yolox_cfg['tiny']\n",
    "model = YOLOX(yolox_tiny_cfg)\n",
    "model.load_weights(\"yolox_tiny.pth\")\n",
    "model.eval()"
   ],
   "outputs": [],
   "execution_count": null
  },
  {
   "cell_type": "markdown",
   "id": "3cde2f8e-0642-4374-a1f4-df2775fe7767",
   "metadata": {},
   "source": [
    "### Post training quantization (PTQ) using Model Compression Toolkit (MCT)\n",
    "\n",
    "Now, we are all set to use MCT's post-training quantization. To begin, we'll define a representative dataset and proceed with the model quantization. Please note that, for demonstration purposes, we'll use the evaluation dataset as our representative dataset. We'll calibrate the model using 80 representative images, divided into 30 iterations of 'batch_size' images each. \n"
   ]
  },
  {
   "cell_type": "code",
   "id": "56393342-cecf-4f64-b9ca-2f515c765942",
   "metadata": {
    "collapsed": false
   },
   "source": [
    "import model_compression_toolkit as mct\n",
    "from tutorials.mct_model_garden.evaluation_metrics.coco_evaluation import coco_dataset_generator\n",
    "from tutorials.mct_model_garden.models_pytorch.yolox.yolox_preprocess import yolox_preprocess_chw_transpose\n",
    "from tutorials.mct_model_garden.models_pytorch.yolox.yolox import YOLOXPostProcess\n",
    "from typing import Iterator\n",
    "\n",
    "REPRESENTATIVE_DATASET_FOLDER = './coco/val2017/'\n",
    "REPRESENTATIVE_DATASET_ANNOTATION_FILE = './coco/annotations/instances_val2017.json'\n",
    "BATCH_SIZE = 4\n",
    "n_iters = 30\n",
    "\n",
    "# Load representative dataset\n",
    "representative_dataset = coco_dataset_generator(dataset_folder=REPRESENTATIVE_DATASET_FOLDER,\n",
    "                                                annotation_file=REPRESENTATIVE_DATASET_ANNOTATION_FILE,\n",
    "                                                preprocess=yolox_preprocess_chw_transpose,\n",
    "                                                batch_size=BATCH_SIZE)\n",
    "\n",
    "\n",
    "def get_representative_dataset(dataset: Iterator, n_iter: int):\n",
    "    \"\"\"\n",
    "    This function creates a representative dataset generator. The generator yields numpy\n",
    "        arrays of batches of shape: [Batch, H, W ,C].\n",
    "    Args:\n",
    "        dataset: dataset iterator\n",
    "        n_iter: number of iterations for MCT for calibration\n",
    "    Returns:\n",
    "        A representative dataset generator\n",
    "    \"\"\"       \n",
    "    def _generator():\n",
    "        for _ind in range(n_iter):\n",
    "            batch, label = next(iter(dataset))\n",
    "            yield [batch]\n",
    "\n",
    "    return _generator\n",
    "\n",
    "# Get representative dataset generator\n",
    "representative_dataset_gen = get_representative_dataset(dataset=representative_dataset, n_iter=n_iters)\n",
    "\n",
    "# Set IMX500 TPC\n",
    "tpc = mct.get_target_platform_capabilities(fw_name=\"pytorch\",\n",
    "                                           target_platform_name='imx500',\n",
    "                                           target_platform_version='v3')\n",
    "\n",
    "# Define target Resource Utilization for mixed precision weights quantization.\n",
    "# Number of parameters of YOLOx-Tiny is 5M and we set target memory (in Bytes) of 87% of 'standard' 8-bit quantization.\n",
    "resource_utilization = mct.core.ResourceUtilization(weights_memory=5e6 * 0.87)\n",
    "\n",
    "# Perform post training quantization\n",
    "quant_model, _ = mct.ptq.pytorch_post_training_quantization(in_module=model,\n",
    "                                                            representative_data_gen=representative_dataset_gen,\n",
    "                                                            target_resource_utilization=resource_utilization,\n",
    "                                                            target_platform_capabilities=tpc)\n",
    "\n",
    "# Integrate the quantized model with box decoder and NMS\n",
    "quant_model = YOLOXPostProcess(quant_model)\n",
    "\n",
    "print('Quantized model is ready!')"
   ],
   "outputs": [],
   "execution_count": null
  },
  {
   "cell_type": "markdown",
   "id": "3be2016acdc9da60",
   "metadata": {
    "collapsed": false
   },
   "source": [
    "### Export\n",
    "\n",
    "Now, we can export the quantized model, ready for deployment om IMX500, into a `.onnx` format file. Please ensure that the `save_model_path` has been set correctly. "
   ]
  },
  {
   "cell_type": "code",
   "id": "72dd885c7b92fa93",
   "metadata": {
    "collapsed": false
   },
   "source": [
    "mct.exporter.pytorch_export_model(model=quant_model,\n",
    "                                  save_model_path='./model.onnx',\n",
    "                                  repr_dataset=representative_dataset_gen)"
   ],
   "outputs": [],
   "execution_count": null
  },
  {
   "cell_type": "markdown",
   "id": "43a8a6d11d696b09",
   "metadata": {
    "collapsed": false
   },
   "source": [
    "## Evaluation on COCO dataset\n",
    "\n",
    "### Floating point model evaluation\n",
    "Next, we evaluate the floating point model by using `cocoeval` library alongside additional dataset utilities. We can verify the mAP accuracy aligns with that of the original model. \n",
    "Note that we set the preprocessing according to [YOLOX](https://github.com/Megvii-BaseDetection/YOLOX).\n",
    "Please ensure that the dataset path has been set correctly before running this code cell."
   ]
  },
  {
   "cell_type": "code",
   "id": "01e90967-594b-480f-b2e6-45e2c9ce9cee",
   "metadata": {},
   "source": [
    "from tutorials.mct_model_garden.evaluation_metrics.coco_evaluation import coco_evaluate\n",
    "from tutorials.mct_model_garden.models_pytorch.yolox.yolox import model_predict\n",
    "\n",
    "EVAL_DATASET_FOLDER = './coco/val2017'\n",
    "EVAL_DATASET_ANNOTATION_FILE = './coco/annotations/instances_val2017.json'\n",
    "\n",
    "# Define boxes resizing information to map between the model's output and the original image dimensions\n",
    "output_resize = {'shape': yolox_tiny_cfg['img_size'], 'aspect_ratio_preservation': True, \"align_center\": False, 'normalized_coords': False}\n",
    "\n",
    "# Integrate the floating-point model with box decoder and NMS\n",
    "model = YOLOXPostProcess(model)\n",
    "\n",
    "# Evaluate the floating-point model\n",
    "eval_results = coco_evaluate(model=model,\n",
    "                             dataset_folder=EVAL_DATASET_FOLDER,\n",
    "                             annotation_file=EVAL_DATASET_ANNOTATION_FILE,\n",
    "                             preprocess=yolox_preprocess_chw_transpose,\n",
    "                             output_resize=output_resize,\n",
    "                             batch_size=BATCH_SIZE,\n",
    "                             model_inference=model_predict)\n",
    "\n",
    "print(\"Floating-point model mAP: {:.4f}\".format(eval_results[0]))"
   ],
   "outputs": [],
   "execution_count": null
  },
  {
   "cell_type": "markdown",
   "id": "4fb6bffc-23d1-4852-8ec5-9007361c8eeb",
   "metadata": {},
   "source": [
    "### Quantized model evaluation\n",
    "We can evaluate the performance of the quantized model. There is a slight decrease in performance that can be further mitigated by either expanding the representative dataset or employing MCT's advanced quantization methods, such as GPTQ (Gradient-Based/Enhanced Post Training Quantization)."
   ]
  },
  {
   "cell_type": "code",
   "id": "8dc7b87c-a9f4-4568-885a-fe009c8f4e8f",
   "metadata": {},
   "source": [
    "# Evaluate quantized model\n",
    "eval_results = coco_evaluate(model=quant_model,\n",
    "                             dataset_folder=EVAL_DATASET_FOLDER,\n",
    "                             annotation_file=EVAL_DATASET_ANNOTATION_FILE,\n",
    "                             preprocess=yolox_preprocess_chw_transpose,\n",
    "                             output_resize=output_resize,\n",
    "                             batch_size=BATCH_SIZE,\n",
    "                             model_inference=model_predict)\n",
    "\n",
    "print(\"Quantized model mAP: {:.4f}\".format(eval_results[0]))"
   ],
   "outputs": [],
   "execution_count": null
  },
  {
   "cell_type": "markdown",
   "id": "6d93352843a27433",
   "metadata": {
    "collapsed": false
   },
   "source": [
    "\\\n",
    "Copyright 2024 Sony Semiconductor Israel, Inc. All rights reserved.\n",
    "\n",
    "Licensed under the Apache License, Version 2.0 (the \"License\");\n",
    "you may not use this file except in compliance with the License.\n",
    "You may obtain a copy of the License at\n",
    "\n",
    "    http://www.apache.org/licenses/LICENSE-2.0\n",
    "\n",
    "Unless required by applicable law or agreed to in writing, software\n",
    "distributed under the License is distributed on an \"AS IS\" BASIS,\n",
    "WITHOUT WARRANTIES OR CONDITIONS OF ANY KIND, either express or implied.\n",
    "See the License for the specific language governing permissions and\n",
    "limitations under the License."
   ]
  }
 ],
 "metadata": {
  "colab": {
   "provenance": []
  },
  "kernelspec": {
   "display_name": "Python 3 (ipykernel)",
   "language": "python",
   "name": "python3"
  },
  "language_info": {
   "codemirror_mode": {
    "name": "ipython",
    "version": 3
   },
   "file_extension": ".py",
   "mimetype": "text/x-python",
   "name": "python",
   "nbconvert_exporter": "python",
   "pygments_lexer": "ipython3",
   "version": "3.11.4"
  }
 },
 "nbformat": 4,
 "nbformat_minor": 5
}
