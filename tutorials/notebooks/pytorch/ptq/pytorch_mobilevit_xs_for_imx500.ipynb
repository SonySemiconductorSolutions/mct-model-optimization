{
 "cells": [
  {
   "cell_type": "markdown",
   "id": "fab9d9939dc74da4",
   "metadata": {
    "collapsed": false
   },
   "source": [
    "# MobileViT-XS PyTorch Model - Quantization for IMX500\n",
    "\n",
    "[Run this tutorial in Google Colab](https://colab.research.google.com/github/sony/model_optimization/blob/main/tutorials/notebooks/pytorch/ptq/pytorch_mobilevit_xs_for_imx500.ipynb)\n",
    "\n",
    "## Overview\n",
    "\n",
    "In this tutorial, we will illustrate a basic and quick process of preparing a pre-trained model for deployment using MCT. Specifically, we will demonstrate how to download a pre-trained MobileViT-XS model from the MCT Models Library, compress it, and make it deployment-ready using MCT's post-training quantization techniques.\n",
    "\n",
    "We will use an existing pre-trained MobileViT-XS model based on [Timm](https://github.com/huggingface/pytorch-image-models). The model was slightly adjusted for model quantization. We will quantize the model using MCT post training quantization and evaluate the performance of the floating point model and the quantized model on ImageNet dataset.\n",
    "\n",
    "\n",
    "## Summary\n",
    "\n",
    "In this tutorial we will cover:\n",
    "\n",
    "1. Post-Training Quantization using MCT of PyTorch classification model.\n",
    "2. Data preparation - loading and preprocessing validation and representative datasets from ImageNet.\n",
    "3. Accuracy evaluation of the floating-point and the quantized models."
   ]
  },
  {
   "cell_type": "markdown",
   "id": "d74f9c855ec54081",
   "metadata": {
    "collapsed": false
   },
   "source": [
    "## Setup\n",
    "### Install the relevant packages"
   ]
  },
  {
   "cell_type": "code",
   "execution_count": null,
   "id": "7c7fa04c9903736f",
   "metadata": {
    "collapsed": false
   },
   "outputs": [],
   "source": [
    "!pip install -q torch\n",
    "!pip install onnx\n",
    "!pip install timm\n",
    "!pip install 'huggingface-hub>=0.21.0'"
   ]
  },
  {
   "cell_type": "markdown",
   "id": "57717bc8f59a0d85",
   "metadata": {
    "collapsed": false
   },
   "source": [
    " Clone a copy of the [MCT](https://github.com/sony/model_optimization) (Model Compression Toolkit) into your current directory. This step ensures that you have access to [MCT Models Garden](https://github.com/sony/model_optimization/tree/main/tutorials/mct_model_garden) folder which contains all the necessary utility functions for this tutorial.\n",
    "  **It's important to note that we use the most up-to-date MCT code available.**"
   ]
  },
  {
   "cell_type": "code",
   "execution_count": null,
   "id": "9728247bc20d0600",
   "metadata": {
    "collapsed": false
   },
   "outputs": [],
   "source": [
    "!git clone https://github.com/sony/model_optimization.git local_mct\n",
    "!pip install -r ./local_mct/requirements.txt\n",
    "import sys\n",
    "sys.path.insert(0,\"./local_mct\")"
   ]
  },
  {
   "cell_type": "markdown",
   "id": "7a1038b9fd98bba2",
   "metadata": {
    "collapsed": false
   },
   "source": [
    "### Download ImageNet validation set"
   ]
  },
  {
   "cell_type": "code",
   "execution_count": null,
   "id": "8bea492d71b4060f",
   "metadata": {
    "collapsed": false
   },
   "outputs": [],
   "source": [
    "!mkdir imagenet\n",
    "!mkdir imagenet/val\n",
    "!wget https://image-net.org/data/ILSVRC/2012/ILSVRC2012_img_val.tar\n",
    "!mv ILSVRC2012_img_val.tar imagenet/\n",
    "!tar -xvf imagenet/ILSVRC2012_img_val.tar -C imagenet/val\n",
    "!echo Done loading ILSVRC2012_img_val images"
   ]
  },
  {
   "cell_type": "markdown",
   "id": "084c2b8b-3175-4d46-a18a-7c4d8b6fcb38",
   "metadata": {},
   "source": [
    "## Model Quantization\n",
    "\n",
    "### Download a Pre-Trained Model \n",
    "\n",
    "We begin by loading a pre-trained [MobileViT-XS](https://huggingface.co/SSI-DNN/pytorch_mobilevit_xs) model. This implementation is based on [Timm](https://github.com/huggingface/pytorch-image-models) and includes a slightly modified version of timm/Attention module that was adapted for model quantization. For further insights into the model's implementation details, please refer to [MCT Models Garden - yolov8](https://github.com/sony/model_optimization/tree/main/tutorials/mct_model_garden/models_pytorch/mobilevit_xs).  "
   ]
  },
  {
   "cell_type": "code",
   "execution_count": null,
   "id": "e8395b28-4732-4d18-b081-5d3bdf508691",
   "metadata": {},
   "outputs": [],
   "source": [
    "from tutorials.mct_model_garden.models_pytorch.mobilevit_xs.mobilevit_xs import MobileViTXSPyTorch\n",
    "model = MobileViTXSPyTorch.from_pretrained(\"SSI-DNN/pytorch_mobilevit_xs\")"
   ]
  },
  {
   "cell_type": "markdown",
   "id": "3cde2f8e-0642-4374-a1f4-df2775fe7767",
   "metadata": {},
   "source": [
    "### Post training quantization using Model Compression Toolkit \n",
    "\n",
    "Now, we're all set to use MCT's post-training quantization. To begin, we'll define a representative dataset and proceed with the model quantization. Please note that, for demonstration purposes, we'll use the evaluation dataset as our representative dataset. We'll calibrate the model using 80 representative images, divided into 20 iterations of 'batch_size' images each. \n",
    "\n",
    "Additionally, to further compress the model's memory footprint, we will employ the mixed-precision quantization technique. This method allows each layer to be quantized with different precision options: 2, 4, and 8 bits, aligning with the imx500 target platform capabilities."
   ]
  },
  {
   "cell_type": "code",
   "execution_count": null,
   "id": "56393342-cecf-4f64-b9ca-2f515c765942",
   "metadata": {
    "collapsed": false
   },
   "outputs": [],
   "source": [
    "import model_compression_toolkit as mct\n",
    "from timm.data import create_dataset, create_loader, resolve_data_config\n",
    "from typing import Iterator, Tuple, List\n",
    "\n",
    "DATASET = 'Imagenet'\n",
    "REPRESENTATIVE_DATASET_FOLDER = './imagenet/val'\n",
    "BATCH_SIZE = 4\n",
    "n_iters = 20\n",
    "IMG_SIZE = 256\n",
    "DATA_ARGS = {'img_size': IMG_SIZE}\n",
    "\n",
    "# Load representative dataset\n",
    "data_config = resolve_data_config(args=DATA_ARGS,\n",
    "                                  model=model)\n",
    "\n",
    "val_dataset = create_dataset(name=DATASET, root=REPRESENTATIVE_DATASET_FOLDER, is_training=False,\n",
    "                             batch_size=BATCH_SIZE)\n",
    "representative_dataset = create_loader(\n",
    "    val_dataset,\n",
    "    input_size=data_config['input_size'],\n",
    "    batch_size=BATCH_SIZE,\n",
    "    interpolation=data_config['interpolation'],\n",
    "    mean=data_config['mean'],\n",
    "    std=data_config['std'],\n",
    "    crop_pct=data_config['crop_pct'])\n",
    "\n",
    "# Define representative dataset generator\n",
    "def get_representative_dataset(n_iter: int, dataset_loader: Iterator[Tuple]):\n",
    "    \"\"\"\n",
    "    This function creates a representative dataset generator. The generator yields numpy\n",
    "        arrays of batches of shape: [Batch, H, W ,C].\n",
    "    Args:\n",
    "        n_iter: number of iterations for MCT to calibrate on\n",
    "    Returns:\n",
    "        A representative dataset generator\n",
    "    \"\"\"       \n",
    "    def representative_dataset() -> Iterator[List]:\n",
    "        ds_iter = iter(dataset_loader)\n",
    "        for _ in range(n_iter):\n",
    "            yield [next(ds_iter)[0]]\n",
    "\n",
    "    return representative_dataset\n",
    "\n",
    "# Get representative dataset generator\n",
    "representative_dataset_gen = get_representative_dataset(n_iter=n_iters,\n",
    "                                                        dataset_loader=representative_dataset)\n",
    "\n",
    "# Set IMX500-v1 TPC\n",
    "tpc = mct.get_target_platform_capabilities(fw_name=\"pytorch\",\n",
    "                                           target_platform_name='imx500',\n",
    "                                           target_platform_version='v1')\n",
    "\n",
    "# Specify the necessary configuration for mixed precision quantization. To keep the tutorial brief, we'll use a small set of images and omit the hessian metric for mixed precision calculations. It's important to be aware that this choice may impact the resulting accuracy. \n",
    "mp_config = mct.core.MixedPrecisionQuantizationConfig(num_of_images=5,\n",
    "                                                      use_hessian_based_scores=False)\n",
    "config = mct.core.CoreConfig(mixed_precision_config=mp_config,\n",
    "                             quantization_config=mct.core.QuantizationConfig(shift_negative_activation_correction=True))\n",
    "\n",
    "# Define target Resource Utilization for mixed precision weights quantization (75% of 'standard' 8bits quantization)\n",
    "resource_utilization_data = mct.core.pytorch_resource_utilization_data(in_model=model,\n",
    "                                                                       representative_data_gen=\n",
    "                                                                       representative_dataset_gen,\n",
    "                                                                       core_config=config,\n",
    "                                                                       target_platform_capabilities=tpc)\n",
    "resource_utilization = mct.core.ResourceUtilization(weights_memory=resource_utilization_data.weights_memory * 0.75)\n",
    "\n",
    "# Perform post training quantization\n",
    "quant_model, _ = mct.ptq.pytorch_post_training_quantization(in_module=model,\n",
    "                                                            representative_data_gen=\n",
    "                                                            representative_dataset_gen,\n",
    "                                                            target_resource_utilization=resource_utilization,\n",
    "                                                            core_config=config,\n",
    "                                                            target_platform_capabilities=tpc)\n",
    "print('Quantized model is ready')"
   ]
  },
  {
   "cell_type": "markdown",
   "id": "3be2016acdc9da60",
   "metadata": {
    "collapsed": false
   },
   "source": [
    "### Model Export\n",
    "\n",
    "Now, we can export the quantized model, ready for deployment, into a `.onnx` format file. Please ensure that the `save_model_path` has been set correctly. "
   ]
  },
  {
   "cell_type": "code",
   "execution_count": null,
   "id": "72dd885c7b92fa93",
   "metadata": {
    "collapsed": false
   },
   "outputs": [],
   "source": [
    "mct.exporter.pytorch_export_model(model=quant_model,\n",
    "                                  save_model_path='./qmodel.onnx',\n",
    "                                  repr_dataset=representative_dataset_gen)"
   ]
  },
  {
   "cell_type": "markdown",
   "source": [
    "### Gradient-Based Post Training Quantization using Model Compression Toolkit\n",
    "Here we demonstrate how to further optimize the quantized model performance using gradient-based PTQ technique.\n",
    "**Please note that this section is computationally heavy, and it's recommended to run it on a GPU. For fast deployment, you may choose to skip this step.** \n",
    "\n",
    "We will start by loading the COCO training set, and re-define the representative dataset accordingly. "
   ],
   "metadata": {
    "collapsed": false
   },
   "id": "655d764593af0763"
  },
  {
   "cell_type": "code",
   "execution_count": null,
   "outputs": [],
   "source": [
    "!mkdir imagenet/train\n",
    "!wget https://image-net.org/data/ILSVRC/2012/ILSVRC2012_img_train.tar\n",
    "!mv ILSVRC2012_img_train.tar imagenet/\n",
    "!tar -xvf imagenet/ILSVRC2012_img_train.tar -C imagenet/train\n",
    "!echo Done loading ILSVRC2012_img_train images\n",
    "\n",
    "GPTQ_REPRESENTATIVE_DATASET_FOLDER = './imagenet/train'\n",
    "BATCH_SIZE = 4\n",
    "n_iters = 20\n",
    "\n",
    "# Load representative dataset\n",
    "data_config = resolve_data_config(args=DATA_ARGS,\n",
    "                                  model=model)\n",
    "\n",
    "train_dataset = create_dataset(name=DATASET, root=DATASET_DIR, is_training=False,\n",
    "                               batch_size=BATCH_SIZE)\n",
    "gptq_representative_dataset = create_loader(\n",
    "    train_dataset,\n",
    "    input_size=data_config['input_size'],\n",
    "    batch_size=BATCH_SIZE,\n",
    "    interpolation=data_config['interpolation'],\n",
    "    mean=data_config['mean'],\n",
    "    std=data_config['std'],\n",
    "    crop_pct=data_config['crop_pct'])\n",
    "\n",
    "# Get representative dataset generator\n",
    "gptq_representative_dataset_gen = get_representative_dataset(n_iter=n_iters,\n",
    "                                                        dataset_loader=gptq_representative_dataset)"
   ],
   "metadata": {
    "collapsed": false
   },
   "id": "20fe96b6cc95d38c"
  },
  {
   "cell_type": "markdown",
   "source": [
    "Next, we'll set up the Gradient-Based PTQ configuration and execute the necessary MCT command. Keep in mind that this step can be time-consuming, depending on your runtime."
   ],
   "metadata": {
    "collapsed": false
   },
   "id": "29d54f733139d114"
  },
  {
   "cell_type": "code",
   "execution_count": null,
   "outputs": [],
   "source": [
    "# Specify the necessary configuration for Gradient-Based PTQ.\n",
    "n_gptq_epochs = 1000\n",
    "gptq_config = mct.gptq.get_pytorch_gptq_config(n_epochs=n_gptq_epochs, use_hessian_based_weights=False)\n",
    "\n",
    "# Perform Gradient-Based Post Training Quantization\n",
    "gptq_quant_model, _ = mct.gptq.pytorch_gradient_post_training_quantization(\n",
    "    model=model,\n",
    "    representative_data_gen=gptq_representative_dataset_gen,\n",
    "    target_resource_utilization=resource_utilization,\n",
    "    gptq_config=gptq_config,\n",
    "    core_config=config,\n",
    "    target_platform_capabilities=tpc)\n",
    "\n",
    "print('Quantized-GPTQ model is ready')"
   ],
   "metadata": {
    "collapsed": false
   },
   "id": "240421e00f6cce34"
  },
  {
   "cell_type": "markdown",
   "source": [
    "### Model Export\n",
    "\n",
    "Now, we can export the quantized model, ready for deployment, into a `.onnx` format file. Please ensure that the `save_model_path` has been set correctly. "
   ],
   "metadata": {
    "collapsed": false
   },
   "id": "b5d72e8420550101"
  },
  {
   "cell_type": "code",
   "execution_count": null,
   "outputs": [],
   "source": [
    "mct.exporter.pytorch_export_model(model=gptq_quant_model,\n",
    "                                  save_model_path='./qmodel_gptq.onnx',\n",
    "                                  repr_dataset=gptq_representative_dataset_gen)"
   ],
   "metadata": {
    "collapsed": false
   },
   "id": "546ff946af81702b"
  },
  {
   "cell_type": "markdown",
   "source": [
    "## Evaluation on ImageNet dataset\n",
    "\n",
    "### Floating point model evaluation\n",
    "Please ensure that the dataset path has been set correctly before running this code cell."
   ],
   "metadata": {
    "collapsed": false
   },
   "id": "43a8a6d11d696b09"
  },
  {
   "cell_type": "code",
   "execution_count": null,
   "id": "01e90967-594b-480f-b2e6-45e2c9ce9cee",
   "metadata": {},
   "outputs": [],
   "source": [
    "from tutorials.quick_start.pytorch_fw.utils import classification_eval\n",
    "\n",
    "EVAL_DATASET = 'Imagenet'\n",
    "EVAL_DATASET_FOLDER = './imagenet/val'\n",
    "IMG_SIZE = 256\n",
    "DATA_ARGS = {'img_size': IMG_SIZE}\n",
    "\n",
    "# Load representative dataset\n",
    "data_config = resolve_data_config(args=DATA_ARGS,\n",
    "                                  model=model)\n",
    "\n",
    "val_dataset = create_dataset(name=DATASET, root=EVAL_DATASET_FOLDER, is_training=False,\n",
    "                             batch_size=BATCH_SIZE)\n",
    "val_loader = create_loader(\n",
    "    val_dataset,\n",
    "    input_size=data_config['input_size'],\n",
    "    batch_size=BATCH_SIZE,\n",
    "    interpolation=data_config['interpolation'],\n",
    "    mean=data_config['mean'],\n",
    "    std=data_config['std'],\n",
    "    crop_pct=data_config['crop_pct'])\n",
    "\n",
    "# Evaluate the model on ImageNet\n",
    "eval_results = classification_eval(model, val_loader)\n",
    "\n",
    "# Print float model Accuracy results\n",
    "print(\"Float model Accuracy: {:.4f}\".format(round(100 * eval_results[0], 2)))"
   ]
  },
  {
   "cell_type": "markdown",
   "id": "4fb6bffc-23d1-4852-8ec5-9007361c8eeb",
   "metadata": {},
   "source": [
    "### Quantized model evaluation\n",
    "We can evaluate the performance of the quantized model. There is a slight decrease in performance that can be further mitigated by either expanding the representative dataset or employing MCT's advanced quantization methods, such as GPTQ (Gradient-Based/Enhanced Post Training Quantization)."
   ]
  },
  {
   "cell_type": "code",
   "execution_count": null,
   "id": "8dc7b87c-a9f4-4568-885a-fe009c8f4e8f",
   "metadata": {},
   "outputs": [],
   "source": [
    "# Evaluate the quantized model on ImageNet\n",
    "eval_results = classification_eval(quant_model, val_loader)\n",
    "\n",
    "# Print quantized model Accuracy results\n",
    "print(\"Quantized model Accuracy: {:.4f}\".format(round(100 * eval_results[0], 2)))"
   ]
  },
  {
   "cell_type": "markdown",
   "source": [
    "Finally, we can evaluate the performance of the quantized model through GPTQ (Gradient-Based/Enhanced Post Training Quantization). We anticipate an improvement in performance compare to the quantized model utilizing PTQ."
   ],
   "metadata": {
    "collapsed": false
   },
   "id": "3bb5cc7c91dc8f21"
  },
  {
   "cell_type": "code",
   "execution_count": null,
   "outputs": [],
   "source": [
    "# Evaluate the quantized using GPTQ model on ImageNet\n",
    "eval_results = classification_eval(gptq_quant_model, val_loader)\n",
    "\n",
    "# Print quantized using GPTQ model Accuracy results\n",
    "print(\"Quantized using GPTQ model Accuracy: {:.4f}\".format(round(100 * eval_results[0], 2)))"
   ],
   "metadata": {
    "collapsed": false
   },
   "id": "168468f17ae8bc59"
  },
  {
   "cell_type": "markdown",
   "id": "6d93352843a27433",
   "metadata": {
    "collapsed": false
   },
   "source": [
    "\\\n",
    "Copyright 2024 Sony Semiconductor Israel, Inc. All rights reserved.\n",
    "\n",
    "Licensed under the Apache License, Version 2.0 (the \"License\");\n",
    "you may not use this file except in compliance with the License.\n",
    "You may obtain a copy of the License at\n",
    "\n",
    "    http://www.apache.org/licenses/LICENSE-2.0\n",
    "\n",
    "Unless required by applicable law or agreed to in writing, software\n",
    "distributed under the License is distributed on an \"AS IS\" BASIS,\n",
    "WITHOUT WARRANTIES OR CONDITIONS OF ANY KIND, either express or implied.\n",
    "See the License for the specific language governing permissions and\n",
    "limitations under the License."
   ]
  }
 ],
 "metadata": {
  "colab": {
   "provenance": []
  },
  "kernelspec": {
   "display_name": "Python 3 (ipykernel)",
   "language": "python",
   "name": "python3"
  },
  "language_info": {
   "codemirror_mode": {
    "name": "ipython",
    "version": 3
   },
   "file_extension": ".py",
   "mimetype": "text/x-python",
   "name": "python",
   "nbconvert_exporter": "python",
   "pygments_lexer": "ipython3",
   "version": "3.11.4"
  }
 },
 "nbformat": 4,
 "nbformat_minor": 5
}
