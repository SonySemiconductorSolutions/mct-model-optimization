{
 "cells": [
  {
   "cell_type": "markdown",
   "id": "4c261298-309f-41e8-9338-a5e205f09b05",
   "metadata": {},
   "source": [
    "# Post Training Quantization a YoloV8-nano Object Detection Model\n",
    "\n",
    "[Run this tutorial in Google Colab](https://colab.research.google.com/github/sony/model_optimization/blob/main/tutorials/notebooks/example_keras_yolov8n.ipynb)\n",
    "\n",
    "## Overview\n",
    "\n",
    "\n",
    "In this tutorial, we'll demonstrate the post-training quantization using MCT for a pre-trained object detection model in Keras. Specifically, we'll integrate post-processing, including the non-maximum suppression (NMS) layer, into the model. This integration aligns with the imx500 target platform capabilities.\n",
    "\n",
    "In this example we will use an existing pre-trained YoloV8-nano model taken from [Ultralytics](https://github.com/ultralytics/ultralytics). We will convert the model to a Tensorflow model that includes box decoding and NMS layer. Further, we will quantize the model using MCT post training quantization and evaluate the performance of the floating point model and the quantized model on COCO dataset.\n",
    "\n",
    "\n",
    "## Summary\n",
    "\n",
    "In this tutorial we will cover:\n",
    "\n",
    "1. Post-Training Quantization using MCT of Keras object detection model including the post-processing.\n",
    "2. Data preparation - loading and preprocessing validation and representative datasets from COCO.\n",
    "3. Accuracy evaluation of the floating-point and the quantized models."
   ]
  },
  {
   "cell_type": "markdown",
   "source": [
    "## Setup\n",
    "Install the relevant packages."
   ],
   "metadata": {
    "collapsed": false
   },
   "id": "d74f9c855ec54081"
  },
  {
   "cell_type": "code",
   "execution_count": null,
   "outputs": [],
   "source": [
    "!pip install -q torch\n",
    "!pip install -q tensorflow\n",
    "!pip install -q pycocotools\n",
    "!pip install -q ultralytics\n",
    "!pip install -q model-compression-toolkit"
   ],
   "metadata": {
    "collapsed": false
   },
   "id": "7c7fa04c9903736f"
  },
  {
   "cell_type": "markdown",
   "source": [
    " Clone a copy of the [MCT](https://github.com/sony/model_optimization) (Model Compression Toolkit) into your current directory. This step ensures that you have access to the tutorials [resources](https://github.com/sony/model_optimization/tree/main/tutorials/resources) folder which contains all the necessary utility functions for this tutorial."
   ],
   "metadata": {
    "collapsed": false
   },
   "id": "57717bc8f59a0d85"
  },
  {
   "cell_type": "code",
   "execution_count": null,
   "outputs": [],
   "source": [
    "!git clone https://github.com/sony/model_optimization.git local_mct\n",
    "import sys\n",
    "sys.path.insert(0,\"/content/local_mct\")"
   ],
   "metadata": {
    "collapsed": false
   },
   "id": "9728247bc20d0600"
  },
  {
   "cell_type": "markdown",
   "source": [
    "Finally, load COCO evaluation set"
   ],
   "metadata": {
    "collapsed": false
   },
   "id": "7a1038b9fd98bba2"
  },
  {
   "cell_type": "code",
   "execution_count": null,
   "outputs": [],
   "source": [
    "!wget -nc http://images.cocodataset.org/annotations/annotations_trainval2017.zip\n",
    "!unzip -q -o annotations_trainval2017.zip -d /content/coco\n",
    "!echo Done loading annotations\n",
    "!wget -nc http://images.cocodataset.org/zips/val2017.zip\n",
    "!unzip -q -o val2017.zip -d /content/coco\n",
    "!echo Done loading val2017 images"
   ],
   "metadata": {
    "collapsed": false
   },
   "id": "8bea492d71b4060f"
  },
  {
   "cell_type": "markdown",
   "id": "084c2b8b-3175-4d46-a18a-7c4d8b6fcb38",
   "metadata": {},
   "source": [
    "## Floating Point Model\n",
    "\n",
    "### Load the pre-trained weights of Yolo8-nano\n",
    "We begin by loading the pre-trained weights of `YOLOv8n` from [Ultralytics](https://github.com/ultralytics/assets/releases/download/v0.0.0/yolov8n.pt) using `torch.load`, as the original model is in PyTorch format. Please make sure the pre-trained weights are located in the `content` directory or specify the correct path."
   ]
  },
  {
   "cell_type": "code",
   "execution_count": null,
   "id": "e8395b28-4732-4d18-b081-5d3bdf508691",
   "metadata": {},
   "outputs": [],
   "source": [
    "!wget -nc https://github.com/ultralytics/assets/releases/download/v0.0.0/yolov8n.pt\n",
    "import torch\n",
    "\n",
    "PRETRAINED_WEIGHTS_FILE = '/content/yolov8n.pt'\n",
    "pretrained_weights = torch.load(PRETRAINED_WEIGHTS_FILE)['model'].state_dict()"
   ]
  },
  {
   "cell_type": "markdown",
   "source": [
    "### Generate Yolo8-nano Keras model\n",
    "In the following steps, we proceed to create a Keras model based on [Ultralytics](https://github.com/ultralytics/ultralytics). This implementation includes a slightly modified version of yolov8\n",
    "detection-head (mainly the box decoding part) that was optimized for model quantization. We then initialize the model weights to match those of the original model.\n",
    "\n",
    "To this base model, we integrate the post-processing components, which include tensorflow [tf.image.combined_non_max_suppression](https://www.tensorflow.org/api_docs/python/tf/image/combined_non_max_suppression) layer.\n",
    "For further insights into the model's implementation details, please refer to the tutorials [\"resources\" folder](https://github.com/sony/model_optimization/tree/main/tutorials/resources).   "
   ],
   "metadata": {
    "collapsed": false
   },
   "id": "7f148e78b769f1dc"
  },
  {
   "cell_type": "code",
   "execution_count": null,
   "outputs": [],
   "source": [
    "import tensorflow as tf\n",
    "from keras.models import Model\n",
    "from tutorials.resources.utils.torch2keras_weights_translation import load_state_dict\n",
    "from tutorials.resources.yolov8.yolov8_keras import yolov8_keras\n",
    "\n",
    "# Parameter of Yolov8n\n",
    "INPUT_RESOLUTION = 640\n",
    "\n",
    "# Generate Yolov8n model \n",
    "model = yolov8_keras('/content/local_mct/tutorials/resources/yolov8/yolov8n.yaml', INPUT_RESOLUTION)\n",
    "\n",
    "# Set the pre-trained weights\n",
    "load_state_dict(model, state_dict_torch=pretrained_weights)\n",
    "\n",
    "# Add Tensorflow NMS layer\n",
    "boxes, scores = model.output\n",
    "outputs = tf.image.combined_non_max_suppression(\n",
    "    boxes,\n",
    "    scores,\n",
    "    max_output_size_per_class=300,\n",
    "    max_total_size=300,\n",
    "    iou_threshold=0.7,\n",
    "    score_threshold=0.001,\n",
    "    pad_per_class=False,\n",
    "    clip_boxes=False\n",
    "    )\n",
    "\n",
    "model = Model(model.input, outputs, name='yolov8n')\n",
    "\n",
    "print('Model is ready for evaluation')"
   ],
   "metadata": {
    "collapsed": false
   },
   "id": "698ce1d40f2cdf1f"
  },
  {
   "cell_type": "markdown",
   "id": "3cde2f8e-0642-4374-a1f4-df2775fe7767",
   "metadata": {},
   "source": [
    "#### Evaluate the floating point model\n",
    "Next, we evaluate the floating point model by using `cocoeval` library alongside additional dataset utilities. We can verify the mAP accuracy aligns with that of the original model. \n",
    "Note that we set the \"batch_size\" to 5 and the preprocessing according to [Ultralytics](https://github.com/ultralytics/ultralytics).\n",
    "Please ensure that the dataset path has been set correctly before running this code cell."
   ]
  },
  {
   "cell_type": "code",
   "execution_count": null,
   "outputs": [],
   "source": [
    "from tutorials.resources.utils.coco_evaluation import coco_dataset_generator, CocoEval\n",
    "from tutorials.resources.yolov8.yolov8_keras import yolov8_preprocess\n",
    "\n",
    "EVAL_DATASET_FOLDER = '/content/coco/val2017'\n",
    "EVAL_DATASET_ANNOTATION_FILE = '/content/coco/annotations/instances_val2017.json'\n",
    "BATCH_SIZE = 5\n",
    "\n",
    "# Load COCO evaluation set\n",
    "val_dataset = coco_dataset_generator(dataset_folder=EVAL_DATASET_FOLDER,\n",
    "                                     annotation_file=EVAL_DATASET_ANNOTATION_FILE,\n",
    "                                     preprocess=yolov8_preprocess,\n",
    "                                     batch_size=BATCH_SIZE)\n",
    "\n",
    "# Define resizing information to map between the model's output and the original image dimensions\n",
    "output_resize = {'shape': (INPUT_RESOLUTION, INPUT_RESOLUTION), 'aspect_ratio_preservation': True}\n",
    "\n",
    "# Initialize the evaluation metric object\n",
    "coco_metric = CocoEval(EVAL_DATASET_ANNOTATION_FILE, output_resize) \n",
    "\n",
    "# Iterate and the evaluation set\n",
    "for batch_idx, (images, targets) in enumerate(val_dataset):\n",
    "    \n",
    "    # Run inference on the batch\n",
    "    outputs = model(images)\n",
    "\n",
    "    # Add the model outputs to metric object (a dictionary of outputs after postprocess: boxes, scores & classes)\n",
    "    coco_metric.add_batch_detections(outputs, targets)\n",
    "    if (batch_idx + 1) % 100 == 0:\n",
    "        print(f'processed {(batch_idx + 1) * BATCH_SIZE} images')\n",
    "\n",
    "# Print float model mAP results\n",
    "print(\"Float model mAP: {:.4f}\".format(coco_metric.result()[0]))"
   ],
   "metadata": {
    "collapsed": false
   },
   "id": "56393342-cecf-4f64-b9ca-2f515c765942"
  },
  {
   "cell_type": "markdown",
   "id": "015e760b-6555-45b4-aaf9-500e974c1d86",
   "metadata": {},
   "source": [
    "## Quantize Model\n",
    "\n",
    "### Post training quantization using Model Compression Toolkit \n",
    "\n",
    "Now, we're all set to use MCT's post-training quantization. To begin, we'll define a representative dataset and proceed with the model quantization. Please note that, for demonstration purposes, we'll use the evaluation dataset as our representative dataset. We'll calibrate the model using 100 representative images, divided into 20 iterations of 'batch_size' images each."
   ]
  },
  {
   "cell_type": "code",
   "execution_count": null,
   "id": "01e90967-594b-480f-b2e6-45e2c9ce9cee",
   "metadata": {},
   "outputs": [],
   "source": [
    "import model_compression_toolkit as mct\n",
    "from typing import Iterator, Tuple, List\n",
    "\n",
    "REPRESENTATIVE_DATASET_FOLDER = '/content/coco/val2017/'\n",
    "REPRESENTATIVE_DATASET_ANNOTATION_FILE = '/content/coco/annotations/instances_val2017.json'\n",
    "n_iters = 20\n",
    "\n",
    "# Load representative dataset\n",
    "representative_dataset = coco_dataset_generator(dataset_folder=REPRESENTATIVE_DATASET_FOLDER,\n",
    "                                                annotation_file=REPRESENTATIVE_DATASET_ANNOTATION_FILE,\n",
    "                                                preprocess=yolov8_preprocess,\n",
    "                                                batch_size=BATCH_SIZE)\n",
    "\n",
    "# Define representative dataset generator\n",
    "def get_representative_dataset(n_iter: int, dataset_loader: Iterator[Tuple]):\n",
    "    \"\"\"\n",
    "    This function creates a representative dataset generator.\n",
    "    Args:\n",
    "        n_iter: number of iterations for MCT to calibrate on\n",
    "    Returns:\n",
    "        A representative dataset generator\n",
    "    \"\"\"       \n",
    "    def representative_dataset() -> Iterator[List]:\n",
    "        \"\"\"\n",
    "        Creates a representative dataset generator from a PyTorch data loader, The generator yields numpy\n",
    "        arrays of batches of shape: [Batch, H, W ,C].\n",
    "        Returns:\n",
    "            A representative dataset generator\n",
    "        \"\"\"\n",
    "        ds_iter = iter(dataset_loader)\n",
    "        for _ in range(n_iter):\n",
    "            yield [next(ds_iter)[0]]\n",
    "\n",
    "    return representative_dataset\n",
    "\n",
    "# Set IMX500-v1 TPC\n",
    "tpc = mct.get_target_platform_capabilities(\"tensorflow\", 'imx500', target_platform_version='v1')\n",
    "\n",
    "# Preform post training quantization \n",
    "quant_model, _ = mct.ptq.keras_post_training_quantization_experimental(model,\n",
    "                                                                       get_representative_dataset(n_iters, representative_dataset), target_platform_capabilities=tpc)\n",
    "\n",
    "print('Quantized model is ready')"
   ]
  },
  {
   "cell_type": "markdown",
   "id": "4fb6bffc-23d1-4852-8ec5-9007361c8eeb",
   "metadata": {},
   "source": [
    "### Evaluate quantized model\n",
    "Lastly, we can evaluate the performance of the quantized model. There is a slight decrease in performance that can be further mitigated by either expanding the representative dataset or employing MCT's advanced quantization methods, such as GPTQ (Gradient-Based/Enhanced Post Training Quantization)."
   ]
  },
  {
   "cell_type": "code",
   "execution_count": null,
   "id": "8dc7b87c-a9f4-4568-885a-fe009c8f4e8f",
   "metadata": {},
   "outputs": [],
   "source": [
    "# Re-load COCO evaluation set\n",
    "val_dataset = coco_dataset_generator(dataset_folder=EVAL_DATASET_FOLDER,\n",
    "                                     annotation_file=EVAL_DATASET_ANNOTATION_FILE,\n",
    "                                     preprocess=yolov8_preprocess,\n",
    "                                     batch_size=BATCH_SIZE)\n",
    "\n",
    "# Initialize the evaluation metric object\n",
    "coco_metric = CocoEval(EVAL_DATASET_ANNOTATION_FILE, output_resize) \n",
    "\n",
    "# Iterate and the evaluation set\n",
    "for batch_idx, (images, targets) in enumerate(val_dataset):\n",
    "    # Run inference on the batch\n",
    "    outputs = quant_model(images)\n",
    "\n",
    "    # Add the model outputs to metric object (a dictionary of outputs after postprocess: boxes, scores & classes)\n",
    "    coco_metric.add_batch_detections(outputs, targets)\n",
    "    if (batch_idx + 1) % 100 == 0:\n",
    "        print(f'processed {(batch_idx + 1) * BATCH_SIZE} images')\n",
    "\n",
    "# Print quantized model mAP results\n",
    "print(\"Quantized model mAP: {:.4f}\".format(coco_metric.result()[0]))"
   ]
  }
 ],
 "metadata": {
  "kernelspec": {
   "name": "local-venv",
   "language": "python",
   "display_name": "local-venv"
  },
  "language_info": {
   "codemirror_mode": {
    "name": "ipython",
    "version": 3
   },
   "file_extension": ".py",
   "mimetype": "text/x-python",
   "name": "python",
   "nbconvert_exporter": "python",
   "pygments_lexer": "ipython3",
   "version": "3.8.13"
  }
 },
 "nbformat": 4,
 "nbformat_minor": 5
}
